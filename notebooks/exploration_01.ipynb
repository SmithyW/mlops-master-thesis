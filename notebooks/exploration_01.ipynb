{
 "cells": [
  {
   "cell_type": "code",
   "execution_count": 1,
   "id": "ab9e529f-1226-4d6b-8c41-0dc056a3ee04",
   "metadata": {},
   "outputs": [],
   "source": [
    "# exploration_01: For looking into and testing the dataset "
   ]
  },
  {
   "cell_type": "code",
   "execution_count": null,
   "id": "cb7a1392-5edf-467a-85d6-e4cde04b0b66",
   "metadata": {},
   "outputs": [],
   "source": []
  }
 ],
 "metadata": {
  "kernelspec": {
   "display_name": "mastiabi-venv",
   "language": "python",
   "name": "mastiabi-venv"
  },
  "language_info": {
   "codemirror_mode": {
    "name": "ipython",
    "version": 3
   },
   "file_extension": ".py",
   "mimetype": "text/x-python",
   "name": "python",
   "nbconvert_exporter": "python",
   "pygments_lexer": "ipython3",
   "version": "3.12.3"
  }
 },
 "nbformat": 4,
 "nbformat_minor": 5
}
